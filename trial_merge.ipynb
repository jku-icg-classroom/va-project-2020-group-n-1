{
 "cells": [
  {
   "cell_type": "markdown",
   "metadata": {},
   "source": [
    "# VA Group Project / 2020W. \n",
    "## Group N+1\n",
    "\n",
    "### Dataset Overview \n",
    "\n",
    "* Our goal is to explore the trends and correlations between different datasets, available on [Gap Minder](https://www.gapminder.org/).\n",
    "* Every dataset contains differnt subsets of countries / years.\n",
    "* The original data is in the form: one row per country with values for every year as columns. The years' columns are transformed into rows to make the data processing more convenient.\n",
    "* All datasets of interest are merged to make the data exploration easier."
   ]
  },
  {
   "cell_type": "code",
   "execution_count": null,
   "metadata": {},
   "outputs": [],
   "source": [
    "#disable some annoying warnings\n",
    "import warnings\n",
    "warnings.filterwarnings('ignore', category=FutureWarning)\n",
    "\n",
    "#plots the figures in place instead of a new window\n",
    "%matplotlib inline\n",
    "\n",
    "import pandas as pd\n",
    "import numpy as np\n",
    "\n",
    "import altair as alt\n",
    "\n",
    "import ipywidgets as widgets"
   ]
  },
  {
   "cell_type": "markdown",
   "metadata": {},
   "source": [
    "# Load Data\n",
    "\n",
    "## Helper functions for data loading "
   ]
  },
  {
   "cell_type": "code",
   "execution_count": null,
   "metadata": {},
   "outputs": [],
   "source": [
    "\n",
    "def getYearsOfInterest(fromYear, toYear):\n",
    "    \"\"\"\n",
    "    Generates a range of years [fromYear, toYear]\n",
    "    \"\"\"\n",
    "    return [str(x) for x in range(fromYear, toYear+1)]\n",
    "\n",
    "def filterData(valueColumns, metaDataColumns, data):\n",
    "    \"\"\"\n",
    "    Filter valueColumns + metaDataColumns from the data frame\n",
    "    All missing valueColumns are added to the resulting data frame (with value = None)\n",
    "    \"\"\"\n",
    "    missingColumns = list(set(valueColumns) - set(data.columns))\n",
    "    for c in missingColumns:\n",
    "        data[c] = None \n",
    "    return data[list(set(metaDataColumns) | set(valueColumns))]\n",
    "\n",
    "def unpivot(data, key_columns, data_column, value_column):\n",
    "    \"\"\"\n",
    "    Transforms all non key_columns into rows\n",
    "    \"\"\"\n",
    "    return pd.melt(data, id_vars=key_columns, var_name=data_column, value_name=value_column)\n",
    "\n",
    "def loadSingleDataset(path, from_year, to_year, key_columns, data_column, value_column):\n",
    "    \"\"\"\n",
    "    Loads a single data set from csv\n",
    "    \"\"\"\n",
    "    data = pd.read_csv(path) \n",
    "    data = filterData(getYearsOfInterest(from_year, to_year), key_columns, data)\n",
    "    return unpivot(data, key_columns, data_column, value_column)\n",
    "\n",
    "def mergeDatasets(datasets, keys):\n",
    "    \"\"\"\n",
    "    Merge datasets using keys as key columns\n",
    "    The merge operation is outer join of all data sets\n",
    "    \"\"\"\n",
    "    data = datasets[0]\n",
    "    \n",
    "    for i in range(1, len(datasets)):\n",
    "        data = data.merge(datasets[i], how='outer', left_on=keys, right_on=keys)\n",
    "        \n",
    "    return data"
   ]
  },
  {
   "cell_type": "code",
   "execution_count": null,
   "metadata": {},
   "outputs": [],
   "source": [
    "# global report params \n",
    "FROM_YEAR = 1900\n",
    "TO_YEAR   = 2020"
   ]
  },
  {
   "cell_type": "code",
   "execution_count": null,
   "metadata": {},
   "outputs": [],
   "source": [
    "gdp_growth = loadSingleDataset('data/gdp_total_yearly_growth.csv', \n",
    "                               FROM_YEAR, TO_YEAR, \n",
    "                               ['country'], \n",
    "                               'year', \n",
    "                               'gdp_growth')\n",
    "gdp_growth.head()\n"
   ]
  },
  {
   "cell_type": "code",
   "execution_count": null,
   "metadata": {},
   "outputs": [],
   "source": [
    "children_per_woman_total_fertility = loadSingleDataset('data/children_per_woman_total_fertility.csv', \n",
    "                               FROM_YEAR, TO_YEAR, \n",
    "                               ['country'], \n",
    "                               'year', \n",
    "                               'children_per_woman_total_fertility')\n",
    "children_per_woman_total_fertility.head()"
   ]
  },
  {
   "cell_type": "code",
   "execution_count": null,
   "metadata": {},
   "outputs": [],
   "source": [
    "co2_emissions_tonnes_per_person = loadSingleDataset('data/co2_emissions_tonnes_per_person.csv', \n",
    "                               FROM_YEAR, TO_YEAR, \n",
    "                               ['country'], \n",
    "                               'year', \n",
    "                               'co2_emissions_tonnes_per_person')\n",
    "co2_emissions_tonnes_per_person.head()\n"
   ]
  },
  {
   "cell_type": "code",
   "execution_count": null,
   "metadata": {},
   "outputs": [],
   "source": [
    "mean_years_in_school_women_percent_men_25_to_34_years = loadSingleDataset('data/mean_years_in_school_women_percent_men_25_to_34_years.csv', \n",
    "                               FROM_YEAR, TO_YEAR, \n",
    "                               ['country'], \n",
    "                               'year', \n",
    "                               'mean_years_in_school_women_percent_men_25_to_34_years')\n",
    "mean_years_in_school_women_percent_men_25_to_34_years.head()"
   ]
  },
  {
   "cell_type": "code",
   "execution_count": null,
   "metadata": {},
   "outputs": [],
   "source": [
    "average_age_of_dollar_billionaires_years = loadSingleDataset('data/average_age_of_dollar_billionaires_years.csv', \n",
    "                               FROM_YEAR, TO_YEAR, \n",
    "                               ['country'], \n",
    "                               'year', \n",
    "                               'average_age_of_dollar_billionaires_years')\n",
    "average_age_of_dollar_billionaires_years.head()"
   ]
  },
  {
   "cell_type": "code",
   "execution_count": null,
   "metadata": {},
   "outputs": [],
   "source": [
    "food_supply= loadSingleDataset('data/food_supply.csv', \n",
    "                               FROM_YEAR, TO_YEAR, \n",
    "                               ['country'], \n",
    "                               'year', \n",
    "                               'food_supply')\n",
    "food_supply.head()"
   ]
  },
  {
   "cell_type": "code",
   "execution_count": null,
   "metadata": {},
   "outputs": [],
   "source": [
    "hourly_compensation = loadSingleDataset('data/hourly_compensation.csv', \n",
    "                               FROM_YEAR, TO_YEAR, \n",
    "                               ['country'], \n",
    "                               'year', \n",
    "                               'hourly_compensation')\n",
    "hourly_compensation.head()"
   ]
  },
  {
   "cell_type": "code",
   "execution_count": null,
   "metadata": {},
   "outputs": [],
   "source": [
    "income_per_person= loadSingleDataset('data/income_per_person.csv', \n",
    "                               FROM_YEAR, TO_YEAR, \n",
    "                               ['country'], \n",
    "                               'year', \n",
    "                               'income_per_person')\n",
    "income_per_person.head()"
   ]
  },
  {
   "cell_type": "code",
   "execution_count": null,
   "metadata": {},
   "outputs": [],
   "source": [
    "suicide_per_100000_people = loadSingleDataset('data/suicide_per_100000_people.csv', \n",
    "                               FROM_YEAR, TO_YEAR, \n",
    "                               ['country'], \n",
    "                               'year', \n",
    "                               'suicide_per_100000_people')\n",
    "suicide_per_100000_people.head()"
   ]
  },
  {
   "cell_type": "code",
   "execution_count": null,
   "metadata": {},
   "outputs": [],
   "source": [
    "total_number_of_dollar_billionaires = loadSingleDataset('data/total_number_of_dollar_billionaires.csv', \n",
    "                               FROM_YEAR, TO_YEAR, \n",
    "                               ['country'], \n",
    "                               'year', \n",
    "                               'total_number_of_dollar_billionaires')\n",
    "total_number_of_dollar_billionaires.head()"
   ]
  },
  {
   "cell_type": "code",
   "execution_count": null,
   "metadata": {},
   "outputs": [],
   "source": [
    "working_hours_per_week = loadSingleDataset('data/working_hours_per_week.csv', \n",
    "                               FROM_YEAR, TO_YEAR, \n",
    "                               ['country'], \n",
    "                               'year', \n",
    "                               'working_hours_per_week')\n",
    "working_hours_per_week.head()"
   ]
  },
  {
   "cell_type": "markdown",
   "metadata": {},
   "source": [
    "## The final merged dataset\n",
    "\n",
    "* Call mergeDatasets function to form the final dataset\n",
    "* Augment data with additional attributes (i.e. continent and region data for _'country'_ and decade for _'year'_)"
   ]
  },
  {
   "cell_type": "code",
   "execution_count": null,
   "metadata": {},
   "outputs": [],
   "source": [
    "# merge the datasets in one that contains all the data\n",
    "data = mergeDatasets([\n",
    "    gdp_growth, \n",
    "    children_per_woman_total_fertility,\n",
    "    co2_emissions_tonnes_per_person,\n",
    "    mean_years_in_school_women_percent_men_25_to_34_years,\n",
    "    average_age_of_dollar_billionaires_years,\n",
    "    food_supply,\n",
    "    hourly_compensation,\n",
    "    income_per_person,\n",
    "    suicide_per_100000_people,\n",
    "    total_number_of_dollar_billionaires,\n",
    "    working_hours_per_week\n",
    "], ['country', 'year'])\n",
    "\n",
    "data.sort_values(by=['country', 'year'], inplace=True, ignore_index=True)\n",
    "\n",
    "\n",
    "countries = pd.read_csv('data/countryContinent.csv')\n",
    "\n",
    "data = data.merge(countries, how='left', left_on=['country'], right_on=['country'])\n",
    "data = data.convert_dtypes()\n",
    "\n",
    "#add 'decade' computed column \n",
    "data['decade'] = data['year'].str.slice(0, 3)  + '0'\n",
    "\n",
    "#check for missing countries (they have to be corrected in countryContinent.csv)\n",
    "missing_countries = data[data[\"region_code\"].isnull()]['country'].unique()\n",
    "\n",
    "if (len(missing_countries) == 0):\n",
    "    print(\"Country mapping is OK\")\n",
    "else:\n",
    "    print(missing_countries)\n",
    "    \n",
    "data.to_csv('data/data.csv')"
   ]
  },
  {
   "cell_type": "code",
   "execution_count": null,
   "metadata": {},
   "outputs": [],
   "source": [
    "# basic statistics of the loaded data \n",
    "print(data.count())\n",
    "data.head(50)"
   ]
  },
  {
   "cell_type": "markdown",
   "metadata": {},
   "source": [
    "## Helper variables for different set of columns in the dataset"
   ]
  },
  {
   "cell_type": "code",
   "execution_count": null,
   "metadata": {},
   "outputs": [],
   "source": [
    "# change all _ with line breaks - in this case it's easier to display column names in the plots\n",
    "mapping = {}\n",
    "for col in data:\n",
    "    mapping[col] = col.replace('_', \"\\n\")\n",
    "    \n",
    "data = data.rename(columns=mapping)\n",
    "\n",
    "key_columns = ['country', 'year']\n",
    "\n",
    "measure_columns = [\n",
    "        \"gdp\\ngrowth\",\n",
    "        \"children\\nper\\nwoman\\ntotal\\nfertility\",\n",
    "        \"co2\\nemissions\\ntonnes\\nper\\nperson\",\n",
    "        \"mean\\nyears\\nin\\nschool\\nwomen\\npercent\\nmen\\n25\\nto\\n34\\nyears\",\n",
    "        \"average\\nage\\nof\\ndollar\\nbillionaires\\nyears\",\n",
    "        \"food\\nsupply\",\n",
    "        \"hourly\\ncompensation\",\n",
    "        \"income\\nper\\nperson\",\n",
    "        \"suicide\\nper\\n100000\\npeople\",\n",
    "        \"total\\nnumber\\nof\\ndollar\\nbillionaires\",\n",
    "        \"working\\nhours\\nper\\nweek\"\n",
    "    ]\n",
    "\n",
    "all_columns = key_columns + measure_columns"
   ]
  },
  {
   "cell_type": "markdown",
   "metadata": {},
   "source": [
    "# Show Data"
   ]
  },
  {
   "cell_type": "markdown",
   "metadata": {},
   "source": [
    "## Data Completeness\n",
    " > In the data quality framework, data completeness refers to the degree to which all data in a data set is available. A measure of data completeness is the percentage of missing data entries [[1]](https://dataladder.com/missing-data-and-data-completeness/)"
   ]
  },
  {
   "cell_type": "code",
   "execution_count": null,
   "metadata": {
    "scrolled": true
   },
   "outputs": [],
   "source": [
    "\n",
    "t1 = pd.melt(data[all_columns], id_vars=['country', 'year'], var_name=['measure'], value_name='val')\n",
    "t1['Countries Count'] = t1['val'].isnull() \n",
    "\n",
    "t1 = t1.groupby(['year', 'measure'])['Countries Count'].sum().reset_index()\n",
    "\n",
    "alt.Chart(t1).mark_rect().encode(\n",
    "    x='year:O',\n",
    "    y='measure:O',\n",
    "    color='Countries Count:Q'\n",
    ").properties(\n",
    "    width=800,\n",
    "    height=300,\n",
    "    title='Data Completeness'\n",
    ")\n"
   ]
  },
  {
   "cell_type": "markdown",
   "metadata": {},
   "source": [
    "## Selection of Attributes.\n",
    "\n",
    "The aim is to provide a short description and overall visualization of the attributes/columns that has been chosen and is used within this template.\n",
    "\n",
    "* gdp_growth (gdp_growth): yearly growth of GDP\n",
    "* children_per_woman_total_fertility (fertility): number of children per woman\n",
    "* co2_emissions_tonnes_per_person (co2_emissions): carbon dioxide emission from burning of fossil fueles in tonnes per person\n",
    "* mean_years_in_school_women_percent_men_25_to_34_years (school_years): the average number of years attended in school for women and men age 25 to 34 (including primary, secondary, tertiary education)\n",
    "* average_age_of_dollar_billionaires_years (age_billionaires): average age of dollar billionaires in the country of their citizenship\n",
    "* food_supply (calories): kilocalories intake per person per day (normally 1.500-3.000 kcal/day)\n",
    "* hourly_compensation (compensation): average hourly labor cost per employee\n",
    "* income_per_person (income): GDP per person PPP and inflation adjusted\n",
    "* suicide_per_100000_people (suicide): mortality due to self-inflicted injury per 100.000 people \n",
    "* total_number_of_dollar_billionaires (billionaires): total number of dollar billionaires in the country of their citizenship\n",
    "* working_hours_per_week (working_hours): total amount of yearly working hours divided by 52 weeks\n"
   ]
  },
  {
   "cell_type": "code",
   "execution_count": null,
   "metadata": {},
   "outputs": [],
   "source": [
    "# code her for Johannes' interactive scatter plot matrix"
   ]
  },
  {
   "cell_type": "markdown",
   "metadata": {},
   "source": [
    "### Interpretation\n",
    "\n",
    "short paragraph on why, how and what of interactive scatterplot matrix."
   ]
  },
  {
   "cell_type": "markdown",
   "metadata": {},
   "source": [
    "# DESCRIPTIVE STATISTICS.\n",
    "\n",
    "Analyzing our dataset using descriptive statistics on the level of individual attributes.\n",
    "This includes simple plots of distributions and statistics.\n"
   ]
  },
  {
   "cell_type": "markdown",
   "metadata": {},
   "source": [
    "# Overview Data.\n",
    "\n",
    "\n"
   ]
  },
  {
   "cell_type": "code",
   "execution_count": null,
   "metadata": {},
   "outputs": [],
   "source": [
    "# Hendrik's code here for world map\n",
    "import geopandas as gpd\n",
    "\n",
    "data['year'] = data['year'].astype(int)\n",
    "gdf = gpd.read_file('data/CNTR_RG_60M_2020_4326.shp')\n",
    "gdf3=gdf[gdf.NAME_ENGL!='Antarctica']\n",
    "gdf3\n",
    "toggle = widgets.RadioButtons(options=['alphabetically','descending','ascending'], description=\"Bar sorting\")\n",
    "print('Please choose desired sorting, data, year and region')\n",
    "print('For comparing individual countries: shift-button + mouse-click on desired countries')\n",
    "@widgets.interact(Continent=['World','Europe','Asia','Americas','Africa','Oceania'],Year=(1900,2020),Attribute=['gdp\\ngrowth','children\\nper\\nwoman\\ntotal\\nfertility','co2\\nemissions\\ntonnes\\nper\\nperson','mean\\nyears\\nin\\nschool\\nwomen\\npercent\\nmen\\n25\\nto\\n34\\nyears','average\\nage\\nof\\ndollar\\nbillionaires\\nyears','food\\nsupply','hourly\\ncompensation','income\\nper\\nperson','suicide\\nper\\n100000\\npeople','total\\nnumber\\nof\\ndollar\\nbillionaires','working\\nhours\\nper\\nweek'],sorting=toggle)\n",
    "def react(sorting,Attribute,Year,Continent):\n",
    "        gdf4=gdf3\n",
    "        ee =data.loc[data['year']==Year]\n",
    "        dd = ee.rename(columns = {\"code\\n3\": \"ISO3_CODE\"})\n",
    "        multi = alt.selection_multi(fields=['ISO3_CODE'])\n",
    "        color = alt.condition(multi,\n",
    "                          alt.Color(Attribute+':Q', \n",
    "                          scale=alt.Scale(scheme='blues')),\n",
    "                          alt.value('lightgray'))\n",
    "        brush = alt.selection_interval()\n",
    "        hover = alt.selection_single( on='mouseover',fields=['ISO3_CODE'])\n",
    "        if sorting=='alphabetically':\n",
    "            rank='country'\n",
    "        if sorting=='descending':\n",
    "            rank=alt.Y('country', sort='-x')\n",
    "        if sorting=='ascending':\n",
    "            rank=alt.Y('country', sort='x')       \n",
    "        if Continent!='World':\n",
    "            continent=dd.loc[dd['continent']==Continent]\n",
    "            europa=continent.loc[:,'ISO3_CODE'].values\n",
    "            mapContinent=gdf3[gdf3.ISO3_CODE.isin(europa)]\n",
    "            gdf4=mapContinent\n",
    "            dd=dd.loc[dd['ISO3_CODE'].isin(europa)]\n",
    "            gg=dd\n",
    "            region=dd['sub\\nregion'].unique()\n",
    "            l=list(region)\n",
    "            l.insert(0,'Continent')\n",
    "            \n",
    "            @widgets.interact(Region=l)\n",
    "            def back(Region):\n",
    "                if Region!='Continent':\n",
    "                    continent2=gg.loc[gg['sub\\nregion']==Region]\n",
    "                    europa=continent2.loc[:,'ISO3_CODE'].values\n",
    "                    mapContinent=gdf3[gdf3.ISO3_CODE.isin(europa)]\n",
    "                    gdf4=mapContinent\n",
    "                    hh=gg.loc[dd['ISO3_CODE'].isin(europa)]\n",
    "                    map = alt.Chart(gdf4).mark_geoshape(stroke='lightgray').encode(color=color,tooltip=['NAME_ENGL',Attribute+':Q']\n",
    "                        ).transform_lookup(lookup='ISO3_CODE',from_=alt.LookupData(dd, 'ISO3_CODE', [Attribute])).add_selection(multi\n",
    "                        ).properties(width=650,height=400\n",
    "                        ).properties(title='Overview')\n",
    "                    bars = alt.Chart(hh).mark_bar(size=10).encode( y=rank, x=Attribute, tooltip=[Attribute+':Q'],color=alt.Color(Attribute+':Q',scale=alt.Scale(scheme='blues'))\n",
    "                                    ).add_selection(multi).transform_filter(multi).properties(title='Countries')\n",
    "                    text = alt.Chart(hh).mark_text(size=10, align='left', baseline='middle', dx=3  \n",
    "                            ).encode( y=rank, x=Attribute,text=Attribute+':Q'\n",
    "                            ).transform_filter(multi)\n",
    "                    return  map&(bars+text)\n",
    "                if Region=='Continent':\n",
    "                    continent=gg.loc[gg['continent']==Continent]\n",
    "                    europa=continent.loc[:,'ISO3_CODE'].values\n",
    "                    mapContinent=gdf3[gdf3.ISO3_CODE.isin(europa)]\n",
    "                    gdf4=mapContinent\n",
    "                    jj=gg.loc[dd['ISO3_CODE'].isin(europa)]\n",
    "                    region=dd['sub\\nregion'].unique()\n",
    "                    l=list(region)\n",
    "                    l.insert(0,'Continent')\n",
    "                    map = alt.Chart(gdf4).mark_geoshape(stroke='white'\n",
    "                    ).encode(color=color,tooltip=['NAME_ENGL',Attribute+':Q']\n",
    "                    ).transform_lookup(lookup='ISO3_CODE',from_=alt.LookupData(dd, 'ISO3_CODE', [Attribute])\n",
    "                    ).add_selection( multi\n",
    "                        ).properties( width=650, height=400\n",
    "                    ).properties(title='Overview')\n",
    "                    bars = alt.Chart(jj).mark_bar(size=10).encode( y=rank, x=Attribute, tooltip=[Attribute+':Q'],color=alt.Color(Attribute+':Q',scale=alt.Scale(scheme='blues'))\n",
    "                                    ).add_selection( multi\n",
    "                                    ).transform_filter(multi\n",
    "                                    ).properties(title='Countries')\n",
    "                    text = alt.Chart(jj).mark_text(size=10, align='left', baseline='middle',dx=3  \n",
    "                            ).encode( y=rank, x=Attribute,text=Attribute+':Q'\n",
    "                            ).transform_filter(multi )\n",
    "                    return  map&(bars+text)\n",
    "        if Continent=='World':\n",
    "            map = alt.Chart(gdf4).mark_geoshape(stroke='white'\n",
    "                        ).encode(color=color, tooltip=['NAME_ENGL',Attribute+':Q']\n",
    "                        ).transform_lookup(lookup='ISO3_CODE',from_=alt.LookupData(dd, 'ISO3_CODE', [Attribute])\n",
    "                        ).add_selection( multi\n",
    "                            ).properties( width=650,height=400\n",
    "                        ).properties(title='Overview')\n",
    "            bars = alt.Chart(dd).mark_bar(size=10).encode( y=rank, x=Attribute, tooltip=[Attribute+':Q'],color=alt.Color(Attribute+':Q',scale=alt.Scale(scheme='blues'))\n",
    "                            ).add_selection( multi\n",
    "                            ).transform_filter(multi\n",
    "                        ).properties(title='Countries')\n",
    "            text = alt.Chart(dd).mark_text(size=10,align='left',baseline='middle', dx=3  \n",
    "                    ).encode(y=rank, x=Attribute,text=Attribute+':Q'\n",
    "                    ).transform_filter(multi)\n",
    "            return  map&(bars+text)\n",
    "       \n",
    "            "
   ]
  },
  {
   "cell_type": "markdown",
   "metadata": {},
   "source": [
    "### Interpretation\n",
    "\n",
    "The world map was created to give an overview of the data series. The strength of the colors expresses the characteristics of the selected attribute. The aim is to visualize the differences between different countries. The different data series can be selected using the drop-down menu. The desired year is set with the slider. Individual continents or regions can be selected using additional drop-down menus. The exact values of the data can be read from the bar plot below the world map. The user can select several countries on the map (shift + click) in order to compare them individually in the barplot."
   ]
  },
  {
   "cell_type": "code",
   "execution_count": null,
   "metadata": {},
   "outputs": [],
   "source": [
    "# Hendrik's code here for boxplot and density plot\n",
    "import matplotlib.pyplot as plt\n",
    "import seaborn as sns\n",
    "\n",
    "print('Please choose desired data, year and granularity')\n",
    "@widgets.interact(Year=(1900,2020),Attribute=['gdp\\ngrowth','children\\nper\\nwoman\\ntotal\\nfertility','co2\\nemissions\\ntonnes\\nper\\nperson','mean\\nyears\\nin\\nschool\\nwomen\\npercent\\nmen\\n25\\nto\\n34\\nyears','average\\nage\\nof\\ndollar\\nbillionaires\\nyears','hourly\\ncompensation','suicide\\nper\\n100000\\npeople','working\\nhours\\nper\\nweek'], Resolution=(5, 25, 5))\n",
    "def react(Attribute,Year,Resolution):\n",
    "    indicator=Attribute\n",
    "    slider=Year\n",
    "    bins=Resolution\n",
    "    con=data\n",
    "    con2=con.loc[data['year']==slider]\n",
    "    \n",
    "    ind=indicator\n",
    "    con2.dropna()\n",
    "    plt.figure(figsize=(20,10))\n",
    "    plt.subplot(121)\n",
    "    \n",
    "    sns.boxplot(x='continent',y=ind,data=con2) \n",
    "    plt.title(\"Boxplots per Continent\", size=24)\n",
    "    plt.subplot(122)\n",
    "    if con2[ind].isnull().all():\n",
    "        print('no data')\n",
    "    else:\n",
    "        sns.distplot(con2[ind],bins=bins)\n",
    "        plt.title(\"Denityplot world\", size=24)\n",
    "    "
   ]
  },
  {
   "cell_type": "markdown",
   "metadata": {},
   "source": [
    "### Interpretation\n",
    "\n",
    "\n",
    "The box plots are intended to give an overview of the distribution of a specific data series. The continents are shown separately so that a comparison is possible. A desity plot is shown on the right to visualize the data series worldwide. The desired data series can be selected using a drop-down menu. The year can be set using a slider. The resolution of the density plot can also be adjusted using a slider."
   ]
  },
  {
   "cell_type": "markdown",
   "metadata": {},
   "source": [
    "### CORRELATIONS.\n",
    "\n",
    "Analyzing ourdataset by looking at correlations between attributes (dimensions) and coming up with an interpretation why in which way specific attributes are correlated. "
   ]
  },
  {
   "cell_type": "code",
   "execution_count": null,
   "metadata": {},
   "outputs": [],
   "source": [
    "#Hendrik's code for scatterplot adjusted for cutting out left plot (development)\n",
    "print('Please choose desired attributes and a country')\n",
    "print('Mouse: panning and zooming')\n",
    "@widgets.interact(Year=(1900,2020),Country=data['country'].unique(), Attribute1=['gdp\\ngrowth','children\\nper\\nwoman\\ntotal\\nfertility','co2\\nemissions\\ntonnes\\nper\\nperson','mean\\nyears\\nin\\nschool\\nwomen\\npercent\\nmen\\n25\\nto\\n34\\nyears','average\\nage\\nof\\ndollar\\nbillionaires\\nyears','food\\nsupply','hourly\\ncompensation','income\\nper\\nperson','suicide\\nper\\n100000\\npeople','total\\nnumber\\nof\\ndollar\\nbillionaires','working\\nhours\\nper\\nweek'], Attribute2=['co2\\nemissions\\ntonnes\\nper\\nperson','gdp\\ngrowth','children\\nper\\nwoman\\ntotal\\nfertility','mean\\nyears\\nin\\nschool\\nwomen\\npercent\\nmen\\n25\\nto\\n34\\nyears','average\\nage\\nof\\ndollar\\nbillionaires\\nyears','food\\nsupply','hourly\\ncompensation','income\\nper\\nperson','suicide\\nper\\n100000\\npeople','total\\nnumber\\nof\\ndollar\\nbillionaires','working\\nhours\\nper\\nweek'], Attribute3=['income\\nper\\nperson','gdp\\ngrowth','children\\nper\\nwoman\\ntotal\\nfertility','co2\\nemissions\\ntonnes\\nper\\nperson','mean\\nyears\\nin\\nschool\\nwomen\\npercent\\nmen\\n25\\nto\\n34\\nyears','average\\nage\\nof\\ndollar\\nbillionaires\\nyears','food\\nsupply','hourly\\ncompensation','suicide\\nper\\n100000\\npeople','total\\nnumber\\nof\\ndollar\\nbillionaires','working\\nhours\\nper\\nweek'])\n",
    "def react(Country,Attribute1,Attribute2,Attribute3, Year):\n",
    "    slider=Year\n",
    "    country=Country\n",
    "    con11=data.loc[data['country']==country]\n",
    "    con22=con11.loc[data['year'].between(slider-10, slider+10)]\n",
    "    con=data\n",
    "    con2=con.loc[data['year']==slider]\n",
    "    ind=Attribute1\n",
    "    ind2=Attribute2\n",
    "    ind3=Attribute3\n",
    "    bubble= alt.Chart(con2).mark_circle().encode(\n",
    "                x=alt.X(ind),\n",
    "                y=ind2,\n",
    "                color='continent',\n",
    "                size=ind3,\n",
    "                tooltip=['country',ind+':Q',ind2+':Q', ind3+':Q']\n",
    "            ).properties(title='Attributes 1-3 \\n(1:x-Axis 2:y-Axis 3: Bubble)').interactive() \n",
    "    text= ( alt.Chart(con11.loc[data['year']==slider])\n",
    "        .mark_text(dy=-5)\n",
    "        .encode(x=alt.X(ind), y=ind2, text=alt.Text(\"country:N\")))          \n",
    "    return (bubble+text)"
   ]
  },
  {
   "cell_type": "markdown",
   "metadata": {},
   "source": [
    "### Interpretation\n",
    "\n",
    "short paragraph on why, how and what of scatterplot.\n",
    "\n",
    "Interestingly a lot of Asian countries that are not mentioned a lot in the media have high income per person in the early 60's and keep the status throughout the 2000's (Brunei, Kuwait, Saudi Arabia). With United Arab Emirates speeding up in the end of the 60's (with forming of UAE) and overaking them in less than a couple of years. As expexted calories intake as well as Co2 emission keep increasing with those countries.\n",
    "African countries increase their income per person as well but not as much as their food supply.\n",
    "\n",
    "Contrary to the hypothesis that income per person and working hours would have an impact on suicide rate the heatmap shows no or even a negative correlation. Meaning money is not the sole reason why people decide to end their lives.\n",
    "Income per person on the other hand is highly correlated to calories intake and co2 emission per person which is comprehensible given the fact that with higher income there is more money to spend for consumation. \n",
    "Interestingly calories intake is also connected to the mean years in school which can be explained by the implicit relationship between calories intake and income per person. \n",
    "The average age of dollar billionaires is highly correlated to the hourly compensation which makes sense."
   ]
  },
  {
   "cell_type": "markdown",
   "metadata": {},
   "source": [
    "### CLUSTERING.\n",
    "\n",
    "Clustering similar items and show the clustering results.\n",
    "1. User can interactively select the cluster algorithms and/or its parameters.\n",
    "2. User can select one/more cluster/s from the resulting visualization.\n",
    "3. User can see the selected data with its cluster affiliation in a second interactive visualization (simple overview+detail visualization setup)\n",
    "\n"
   ]
  },
  {
   "cell_type": "code",
   "execution_count": null,
   "metadata": {},
   "outputs": [],
   "source": [
    "# Johannes' code for T-SNE, PCA,..."
   ]
  },
  {
   "cell_type": "markdown",
   "metadata": {},
   "source": [
    "### Interpretation\n",
    "\n",
    "short paragraph on why, how and what of cluster algorithm.\n",
    "\n"
   ]
  }
 ],
 "metadata": {
  "kernelspec": {
   "display_name": "Python 3",
   "language": "python",
   "name": "python3"
  },
  "language_info": {
   "codemirror_mode": {
    "name": "ipython",
    "version": 3
   },
   "file_extension": ".py",
   "mimetype": "text/x-python",
   "name": "python",
   "nbconvert_exporter": "python",
   "pygments_lexer": "ipython3",
   "version": "3.8.5"
  }
 },
 "nbformat": 4,
 "nbformat_minor": 4
}
