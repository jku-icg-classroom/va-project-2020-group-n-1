{
 "cells": [
  {
   "cell_type": "markdown",
   "metadata": {},
   "source": [
    "# VA Project"
   ]
  },
  {
   "cell_type": "code",
   "execution_count": 35,
   "metadata": {},
   "outputs": [],
   "source": [
    "import warnings\n",
    "warnings.filterwarnings('ignore', category=FutureWarning)\n",
    "\n",
    "#plots the figures in place instead of a new window\n",
    "%matplotlib inline\n",
    "\n",
    "import matplotlib.pyplot as plt\n",
    "from matplotlib import figure\n",
    "import seaborn as sns\n",
    "import altair as alt\n",
    "from sklearn import decomposition\n",
    "from sklearn import manifold\n",
    "from sklearn.preprocessing import StandardScaler\n",
    "from sklearn.decomposition import PCA\n",
    "\n",
    "import pandas as pd\n",
    "import numpy as np\n",
    "\n",
    "from ipywidgets import interact, interact_manual"
   ]
  },
  {
   "cell_type": "markdown",
   "metadata": {},
   "source": [
    "### Load Data"
   ]
  },
  {
   "cell_type": "code",
   "execution_count": 2,
   "metadata": {},
   "outputs": [],
   "source": [
    "average_age_of_dollar_billionaires_years = pd.read_csv('data//average_age_of_dollar_billionaires_years.csv')\n",
    "#average_age_of_dollar_billionaires_years.head()"
   ]
  },
  {
   "cell_type": "code",
   "execution_count": 3,
   "metadata": {},
   "outputs": [],
   "source": [
    "children_per_woman_total_fertility = pd.read_csv('data//children_per_woman_total_fertility.csv')\n",
    "#children_per_woman_total_fertility.head()"
   ]
  },
  {
   "cell_type": "code",
   "execution_count": 4,
   "metadata": {},
   "outputs": [],
   "source": [
    "co2_emissions_tonnes_per_person = pd.read_csv('data//co2_emissions_tonnes_per_person.csv')\n",
    "#co2_emissions_tonnes_per_person.head()"
   ]
  },
  {
   "cell_type": "code",
   "execution_count": 5,
   "metadata": {},
   "outputs": [],
   "source": [
    "countryContinent = pd.read_csv('data//countryContinent.csv')\n",
    "#countryContinent.head()"
   ]
  },
  {
   "cell_type": "code",
   "execution_count": 6,
   "metadata": {},
   "outputs": [],
   "source": [
    "data = pd.read_csv('data//data.csv')\n",
    "#print(data.head(120))\n",
    "#print(data.columns)"
   ]
  },
  {
   "cell_type": "code",
   "execution_count": 7,
   "metadata": {},
   "outputs": [
    {
     "data": {
      "text/html": [
       "<div>\n",
       "<style scoped>\n",
       "    .dataframe tbody tr th:only-of-type {\n",
       "        vertical-align: middle;\n",
       "    }\n",
       "\n",
       "    .dataframe tbody tr th {\n",
       "        vertical-align: top;\n",
       "    }\n",
       "\n",
       "    .dataframe thead th {\n",
       "        text-align: right;\n",
       "    }\n",
       "</style>\n",
       "<table border=\"1\" class=\"dataframe\">\n",
       "  <thead>\n",
       "    <tr style=\"text-align: right;\">\n",
       "      <th></th>\n",
       "      <th>country</th>\n",
       "      <th>year</th>\n",
       "      <th>gdp_growth</th>\n",
       "      <th>children_per_woman_total_fertility</th>\n",
       "      <th>co2_emissions_tonnes_per_person</th>\n",
       "      <th>mean_years_in_school_women_percent_men_25_to_34_years</th>\n",
       "      <th>food_supply</th>\n",
       "      <th>income_per_person</th>\n",
       "      <th>suicide_per_100000_people</th>\n",
       "      <th>continent</th>\n",
       "      <th>sub_region</th>\n",
       "      <th>decade</th>\n",
       "    </tr>\n",
       "  </thead>\n",
       "  <tbody>\n",
       "    <tr>\n",
       "      <th>0</th>\n",
       "      <td>Afghanistan</td>\n",
       "      <td>1900</td>\n",
       "      <td>1.05</td>\n",
       "      <td>7.00</td>\n",
       "      <td>NaN</td>\n",
       "      <td>NaN</td>\n",
       "      <td>NaN</td>\n",
       "      <td>1090.0</td>\n",
       "      <td>NaN</td>\n",
       "      <td>Asia</td>\n",
       "      <td>Southern Asia</td>\n",
       "      <td>1900</td>\n",
       "    </tr>\n",
       "    <tr>\n",
       "      <th>1</th>\n",
       "      <td>Afghanistan</td>\n",
       "      <td>1901</td>\n",
       "      <td>1.05</td>\n",
       "      <td>7.00</td>\n",
       "      <td>NaN</td>\n",
       "      <td>NaN</td>\n",
       "      <td>NaN</td>\n",
       "      <td>1110.0</td>\n",
       "      <td>NaN</td>\n",
       "      <td>Asia</td>\n",
       "      <td>Southern Asia</td>\n",
       "      <td>1900</td>\n",
       "    </tr>\n",
       "    <tr>\n",
       "      <th>2</th>\n",
       "      <td>Afghanistan</td>\n",
       "      <td>1902</td>\n",
       "      <td>1.05</td>\n",
       "      <td>7.00</td>\n",
       "      <td>NaN</td>\n",
       "      <td>NaN</td>\n",
       "      <td>NaN</td>\n",
       "      <td>1120.0</td>\n",
       "      <td>NaN</td>\n",
       "      <td>Asia</td>\n",
       "      <td>Southern Asia</td>\n",
       "      <td>1900</td>\n",
       "    </tr>\n",
       "    <tr>\n",
       "      <th>3</th>\n",
       "      <td>Afghanistan</td>\n",
       "      <td>1903</td>\n",
       "      <td>1.05</td>\n",
       "      <td>7.00</td>\n",
       "      <td>NaN</td>\n",
       "      <td>NaN</td>\n",
       "      <td>NaN</td>\n",
       "      <td>1140.0</td>\n",
       "      <td>NaN</td>\n",
       "      <td>Asia</td>\n",
       "      <td>Southern Asia</td>\n",
       "      <td>1900</td>\n",
       "    </tr>\n",
       "    <tr>\n",
       "      <th>4</th>\n",
       "      <td>Afghanistan</td>\n",
       "      <td>1904</td>\n",
       "      <td>1.05</td>\n",
       "      <td>7.00</td>\n",
       "      <td>NaN</td>\n",
       "      <td>NaN</td>\n",
       "      <td>NaN</td>\n",
       "      <td>1160.0</td>\n",
       "      <td>NaN</td>\n",
       "      <td>Asia</td>\n",
       "      <td>Southern Asia</td>\n",
       "      <td>1900</td>\n",
       "    </tr>\n",
       "    <tr>\n",
       "      <th>...</th>\n",
       "      <td>...</td>\n",
       "      <td>...</td>\n",
       "      <td>...</td>\n",
       "      <td>...</td>\n",
       "      <td>...</td>\n",
       "      <td>...</td>\n",
       "      <td>...</td>\n",
       "      <td>...</td>\n",
       "      <td>...</td>\n",
       "      <td>...</td>\n",
       "      <td>...</td>\n",
       "      <td>...</td>\n",
       "    </tr>\n",
       "    <tr>\n",
       "      <th>195</th>\n",
       "      <td>Albania</td>\n",
       "      <td>1974</td>\n",
       "      <td>2.69</td>\n",
       "      <td>4.37</td>\n",
       "      <td>1.84</td>\n",
       "      <td>0.892</td>\n",
       "      <td>2490.0</td>\n",
       "      <td>4070.0</td>\n",
       "      <td>NaN</td>\n",
       "      <td>Europe</td>\n",
       "      <td>Southern Europe</td>\n",
       "      <td>1970</td>\n",
       "    </tr>\n",
       "    <tr>\n",
       "      <th>196</th>\n",
       "      <td>Albania</td>\n",
       "      <td>1975</td>\n",
       "      <td>2.62</td>\n",
       "      <td>4.24</td>\n",
       "      <td>1.91</td>\n",
       "      <td>0.897</td>\n",
       "      <td>2490.0</td>\n",
       "      <td>4080.0</td>\n",
       "      <td>NaN</td>\n",
       "      <td>Europe</td>\n",
       "      <td>Southern Europe</td>\n",
       "      <td>1970</td>\n",
       "    </tr>\n",
       "    <tr>\n",
       "      <th>197</th>\n",
       "      <td>Albania</td>\n",
       "      <td>1976</td>\n",
       "      <td>2.64</td>\n",
       "      <td>4.10</td>\n",
       "      <td>2.01</td>\n",
       "      <td>0.902</td>\n",
       "      <td>2680.0</td>\n",
       "      <td>4100.0</td>\n",
       "      <td>NaN</td>\n",
       "      <td>Europe</td>\n",
       "      <td>Southern Europe</td>\n",
       "      <td>1970</td>\n",
       "    </tr>\n",
       "    <tr>\n",
       "      <th>198</th>\n",
       "      <td>Albania</td>\n",
       "      <td>1977</td>\n",
       "      <td>2.64</td>\n",
       "      <td>3.97</td>\n",
       "      <td>2.27</td>\n",
       "      <td>0.906</td>\n",
       "      <td>2780.0</td>\n",
       "      <td>4120.0</td>\n",
       "      <td>NaN</td>\n",
       "      <td>Europe</td>\n",
       "      <td>Southern Europe</td>\n",
       "      <td>1970</td>\n",
       "    </tr>\n",
       "    <tr>\n",
       "      <th>199</th>\n",
       "      <td>Albania</td>\n",
       "      <td>1978</td>\n",
       "      <td>2.63</td>\n",
       "      <td>3.84</td>\n",
       "      <td>2.52</td>\n",
       "      <td>0.910</td>\n",
       "      <td>2690.0</td>\n",
       "      <td>4140.0</td>\n",
       "      <td>NaN</td>\n",
       "      <td>Europe</td>\n",
       "      <td>Southern Europe</td>\n",
       "      <td>1970</td>\n",
       "    </tr>\n",
       "  </tbody>\n",
       "</table>\n",
       "<p>200 rows × 12 columns</p>\n",
       "</div>"
      ],
      "text/plain": [
       "         country  year  gdp_growth  children_per_woman_total_fertility  \\\n",
       "0    Afghanistan  1900        1.05                                7.00   \n",
       "1    Afghanistan  1901        1.05                                7.00   \n",
       "2    Afghanistan  1902        1.05                                7.00   \n",
       "3    Afghanistan  1903        1.05                                7.00   \n",
       "4    Afghanistan  1904        1.05                                7.00   \n",
       "..           ...   ...         ...                                 ...   \n",
       "195      Albania  1974        2.69                                4.37   \n",
       "196      Albania  1975        2.62                                4.24   \n",
       "197      Albania  1976        2.64                                4.10   \n",
       "198      Albania  1977        2.64                                3.97   \n",
       "199      Albania  1978        2.63                                3.84   \n",
       "\n",
       "     co2_emissions_tonnes_per_person  \\\n",
       "0                                NaN   \n",
       "1                                NaN   \n",
       "2                                NaN   \n",
       "3                                NaN   \n",
       "4                                NaN   \n",
       "..                               ...   \n",
       "195                             1.84   \n",
       "196                             1.91   \n",
       "197                             2.01   \n",
       "198                             2.27   \n",
       "199                             2.52   \n",
       "\n",
       "     mean_years_in_school_women_percent_men_25_to_34_years  food_supply  \\\n",
       "0                                                  NaN              NaN   \n",
       "1                                                  NaN              NaN   \n",
       "2                                                  NaN              NaN   \n",
       "3                                                  NaN              NaN   \n",
       "4                                                  NaN              NaN   \n",
       "..                                                 ...              ...   \n",
       "195                                              0.892           2490.0   \n",
       "196                                              0.897           2490.0   \n",
       "197                                              0.902           2680.0   \n",
       "198                                              0.906           2780.0   \n",
       "199                                              0.910           2690.0   \n",
       "\n",
       "     income_per_person  suicide_per_100000_people continent       sub_region  \\\n",
       "0               1090.0                        NaN      Asia    Southern Asia   \n",
       "1               1110.0                        NaN      Asia    Southern Asia   \n",
       "2               1120.0                        NaN      Asia    Southern Asia   \n",
       "3               1140.0                        NaN      Asia    Southern Asia   \n",
       "4               1160.0                        NaN      Asia    Southern Asia   \n",
       "..                 ...                        ...       ...              ...   \n",
       "195             4070.0                        NaN    Europe  Southern Europe   \n",
       "196             4080.0                        NaN    Europe  Southern Europe   \n",
       "197             4100.0                        NaN    Europe  Southern Europe   \n",
       "198             4120.0                        NaN    Europe  Southern Europe   \n",
       "199             4140.0                        NaN    Europe  Southern Europe   \n",
       "\n",
       "     decade  \n",
       "0      1900  \n",
       "1      1900  \n",
       "2      1900  \n",
       "3      1900  \n",
       "4      1900  \n",
       "..      ...  \n",
       "195    1970  \n",
       "196    1970  \n",
       "197    1970  \n",
       "198    1970  \n",
       "199    1970  \n",
       "\n",
       "[200 rows x 12 columns]"
      ]
     },
     "execution_count": 7,
     "metadata": {},
     "output_type": "execute_result"
    }
   ],
   "source": [
    "data_condensed = pd.read_csv('data//data.csv', index_col=0)\n",
    "data_condensed = data_condensed.drop(['average_age_of_dollar_billionaires_years',\n",
    "                     'hourly_compensation', 'working_hours_per_week', 'total_number_of_dollar_billionaires',\n",
    "                     'code_2', 'code_3', 'country_code', 'iso_3166_2', 'region_code', 'sub_region_code'], axis = 1)\n",
    "data_condensed.head(200)"
   ]
  },
  {
   "cell_type": "code",
   "execution_count": 8,
   "metadata": {},
   "outputs": [],
   "source": [
    "food_supply = pd.read_csv('data//food_supply.csv')\n",
    "#food_supply.head()"
   ]
  },
  {
   "cell_type": "code",
   "execution_count": 9,
   "metadata": {},
   "outputs": [],
   "source": [
    "gdp_total_yearly_growth = pd.read_csv('data//gdp_total_yearly_growth.csv')\n",
    "#gdp_total_yearly_growth.head()"
   ]
  },
  {
   "cell_type": "code",
   "execution_count": 10,
   "metadata": {},
   "outputs": [],
   "source": [
    "hourly_compensation = pd.read_csv('data//hourly_compensation.csv')\n",
    "#hourly_compensation.head()"
   ]
  },
  {
   "cell_type": "code",
   "execution_count": 11,
   "metadata": {},
   "outputs": [],
   "source": [
    "income_per_person = pd.read_csv('data//income_per_person.csv')\n",
    "#income_per_person.head()"
   ]
  },
  {
   "cell_type": "code",
   "execution_count": 12,
   "metadata": {},
   "outputs": [],
   "source": [
    "mean_years_in_school_women_percent_men_25_to_34_years = pd.read_csv('data//mean_years_in_school_women_percent_men_25_to_34_years.csv')\n",
    "#mean_years_in_school_women_percent_men_25_to_34_years.index = mean_years_in_school_women_percent_men_25_to_34_years.pop('country')\n",
    "#mean_years_in_school_women_percent_men_25_to_34_years.head()#['country']"
   ]
  },
  {
   "cell_type": "code",
   "execution_count": 13,
   "metadata": {},
   "outputs": [],
   "source": [
    "suicide_per_100000_people = pd.read_csv('data//suicide_per_100000_people.csv')\n",
    "#suicide_per_100000_people.head()"
   ]
  },
  {
   "cell_type": "code",
   "execution_count": 14,
   "metadata": {},
   "outputs": [],
   "source": [
    "total_number_of_dollar_billionaires = pd.read_csv('data//total_number_of_dollar_billionaires.csv')\n",
    "#total_number_of_dollar_billionaires.head()"
   ]
  },
  {
   "cell_type": "code",
   "execution_count": 15,
   "metadata": {},
   "outputs": [],
   "source": [
    "working_hours_per_week = pd.read_csv('data//working_hours_per_week.csv')\n",
    "#working_hours_per_week.head()"
   ]
  },
  {
   "cell_type": "code",
   "execution_count": 16,
   "metadata": {},
   "outputs": [],
   "source": [
    "working_hours_per_week.index = working_hours_per_week.pop('country')\n",
    "#working_hours_per_week.head()"
   ]
  },
  {
   "cell_type": "markdown",
   "metadata": {},
   "source": [
    "### Descriptive Satatistics"
   ]
  },
  {
   "cell_type": "code",
   "execution_count": 17,
   "metadata": {
    "scrolled": false
   },
   "outputs": [
    {
     "data": {
      "application/vnd.jupyter.widget-view+json": {
       "model_id": "6cec56ae7b054bb98eb8b046cc7c530c",
       "version_major": 2,
       "version_minor": 0
      },
      "text/plain": [
       "interactive(children=(IntSlider(value=1992, description='year', max=2015, min=1970), Output()), _dom_classes=(…"
      ]
     },
     "metadata": {},
     "output_type": "display_data"
    }
   ],
   "source": [
    "@interact(year = (1970,2015))\n",
    "def plot_education_gender_ratio(year):\n",
    "    mean_years_in_school_women_percent_men_25_to_34_years.boxplot(str(year))\n",
    "    mean_years_in_school_women_percent_men_25_to_34_years.hist(str(year))"
   ]
  },
  {
   "cell_type": "markdown",
   "metadata": {},
   "source": [
    "### Correlations between attributes"
   ]
  },
  {
   "cell_type": "code",
   "execution_count": 73,
   "metadata": {},
   "outputs": [
    {
     "data": {
      "application/vnd.jupyter.widget-view+json": {
       "model_id": "608adda2eeaa4202adeb9c8e16352a6d",
       "version_major": 2,
       "version_minor": 0
      },
      "text/plain": [
       "interactive(children=(IntSlider(value=1991, description='year', max=2013, min=1970), Checkbox(value=True, desc…"
      ]
     },
     "metadata": {},
     "output_type": "display_data"
    }
   ],
   "source": [
    "@interact(year = (1970,2013), cluster_by_continent=True, continent=['Asia','Europe','Africa', 'Oceania', 'Americas'],\n",
    "          children_per_woman_total_fertility=True, gdp_growth=True, co2_emissions_tonnes_per_person=True,\n",
    "          income_per_person=True, food_supply=True, mean_years_in_school_women_percent_men_25_to_34_years=True)\n",
    "def plot_education_gender_ratio(year,cluster_by_continent, continent,\n",
    "                                children_per_woman_total_fertility,gdp_growth,co2_emissions_tonnes_per_person,\n",
    "                                income_per_person,food_supply,\n",
    "                                mean_years_in_school_women_percent_men_25_to_34_years):\n",
    "    checked_data = list()\n",
    "    if children_per_woman_total_fertility:\n",
    "        checked_data.append('children_per_woman_total_fertility')\n",
    "    if gdp_growth:\n",
    "        checked_data.append('gdp_growth')\n",
    "    if co2_emissions_tonnes_per_person:\n",
    "        checked_data.append('co2_emissions_tonnes_per_person')\n",
    "    if income_per_person:\n",
    "        checked_data.append('income_per_person')\n",
    "    if food_supply:\n",
    "        checked_data.append('food_supply')\n",
    "    if mean_years_in_school_women_percent_men_25_to_34_years:\n",
    "        checked_data.append('mean_years_in_school_women_percent_men_25_to_34_years')\n",
    "    if cluster_by_continent:\n",
    "        new_data_condensed = data_condensed[checked_data + ['country', 'year', 'continent']]\n",
    "        data_condensed_of_year = new_data_condensed[new_data_condensed.year == year]\n",
    "        data_condensed_of_year_continent = data_condensed_of_year[data_condensed_of_year.continent == continent]\n",
    "        print(f'current year is {year}')\n",
    "        pd.plotting.scatter_matrix(data_condensed_of_year_continent[checked_data], figsize=(15,10))\n",
    "    else:\n",
    "        new_data_condensed = data_condensed[checked_data + ['country', 'year']]\n",
    "        data_condensed_of_year = new_data_condensed[new_data_condensed.year == year]\n",
    "        print(f'current year is {year}')\n",
    "        pd.plotting.scatter_matrix(data_condensed_of_year[checked_data], figsize=(15,10))"
   ]
  },
  {
   "cell_type": "markdown",
   "metadata": {},
   "source": [
    "### Cluster similar items"
   ]
  },
  {
   "cell_type": "code",
   "execution_count": 115,
   "metadata": {
    "scrolled": false
   },
   "outputs": [
    {
     "data": {
      "application/vnd.jupyter.widget-view+json": {
       "model_id": "e5ea284a43804d69a06f8e2dd89afcf4",
       "version_major": 2,
       "version_minor": 0
      },
      "text/plain": [
       "interactive(children=(IntSlider(value=1991, description='year', max=2013, min=1970), Checkbox(value=True, desc…"
      ]
     },
     "metadata": {},
     "output_type": "display_data"
    }
   ],
   "source": [
    "@interact(year = (1970,2013), children_per_woman_total_fertility=True,\n",
    "          gdp_growth=True, co2_emissions_tonnes_per_person=True,\n",
    "          income_per_person=True, food_supply=True, mean_years_in_school_women_percent_men_25_to_34_years=True,\n",
    "          clustering_algorithm=['pca','mds','tsne'])\n",
    "def plot_education_gender_ratio(year, children_per_woman_total_fertility,\n",
    "                                gdp_growth,co2_emissions_tonnes_per_person,\n",
    "                                income_per_person,food_supply,\n",
    "                                mean_years_in_school_women_percent_men_25_to_34_years, clustering_algorithm):\n",
    "    checked_data = list()\n",
    "    if children_per_woman_total_fertility:\n",
    "        checked_data.append('children_per_woman_total_fertility')\n",
    "    if gdp_growth:\n",
    "        checked_data.append('gdp_growth')\n",
    "    if co2_emissions_tonnes_per_person:\n",
    "        checked_data.append('co2_emissions_tonnes_per_person')\n",
    "    if income_per_person:\n",
    "        checked_data.append('income_per_person')\n",
    "    if food_supply:\n",
    "        checked_data.append('food_supply')\n",
    "    if mean_years_in_school_women_percent_men_25_to_34_years:\n",
    "        checked_data.append('mean_years_in_school_women_percent_men_25_to_34_years')\n",
    "    \n",
    "    if clustering_algorithm == 'pca':\n",
    "        new_data_condensed = data_condensed[checked_data + ['year']]\n",
    "        ind = {'recognice_by_number': list(range(len(data_condensed['year'])))}\n",
    "        ind = pd.DataFrame(data=ind)\n",
    "        \n",
    "        new_data_condensed = new_data_condensed.join(ind) #add index at end\n",
    "        new_data_condensed = new_data_condensed[\n",
    "            new_data_condensed.replace([np.inf, -np.inf], np.nan).notnull().all(axis=1)]\n",
    "        \n",
    "        #create df which contains continents and some index to recognice when merging\n",
    "        df_continents_of_year = data_condensed[['year','continent']]\n",
    "        df_continents_of_year = df_continents_of_year.join(ind)\n",
    "        \n",
    "        #drow rows that contain wrong years\n",
    "        new_data_condensed = new_data_condensed[new_data_condensed.year == year]\n",
    "        df_continents_of_year = df_continents_of_year[df_continents_of_year.year == year]\n",
    "        \n",
    "        #create colors for plotting and use 'year' column as placeholder\n",
    "        colors = ['yellow','red','black','blue','green']\n",
    "        for index, cont in enumerate(['Asia','Europe','Africa', 'Oceania', 'Americas']):\n",
    "            df_continents_of_year.loc[df_continents_of_year.continent == cont, 'year'] = colors[index]\n",
    "        #change 'year' column as placeholder to 'color'\n",
    "        df_continents_of_year = df_continents_of_year.rename(columns={'year': 'color'})\n",
    "        \n",
    "        #create merged df\n",
    "        df_merged=new_data_condensed.merge(df_continents_of_year,\n",
    "                                           on='recognice_by_number', how='left') \n",
    "        #drop non-values\n",
    "        new_data_condensed.fillna(0)\n",
    "        \n",
    "        #scale data\n",
    "        scaler = StandardScaler()\n",
    "        scaler.fit(new_data_condensed)\n",
    "        scaled_data = scaler.transform(new_data_condensed)\n",
    "        \n",
    "        #use pca\n",
    "        pca = PCA(n_components=2)\n",
    "        pca.fit(scaled_data)\n",
    "        x_pca = pca.transform(scaled_data)\n",
    "        \n",
    "        #plot data in 2D\n",
    "        plt.figure(figsize=(8,6))\n",
    "        plt.scatter(x_pca[:,0],x_pca[:,1],c=df_merged['color'])\n",
    "        plt.xlabel('First principle component')\n",
    "        plt.ylabel('Second principle component')\n",
    "    else:\n",
    "        print('not done yet')"
   ]
  },
  {
   "cell_type": "code",
   "execution_count": null,
   "metadata": {},
   "outputs": [],
   "source": []
  }
 ],
 "metadata": {
  "kernelspec": {
   "display_name": "Python 3",
   "language": "python",
   "name": "python3"
  },
  "language_info": {
   "codemirror_mode": {
    "name": "ipython",
    "version": 3
   },
   "file_extension": ".py",
   "mimetype": "text/x-python",
   "name": "python",
   "nbconvert_exporter": "python",
   "pygments_lexer": "ipython3",
   "version": "3.8.6"
  }
 },
 "nbformat": 4,
 "nbformat_minor": 4
}
