{
 "cells": [
  {
   "cell_type": "markdown",
   "metadata": {},
   "source": [
    "### Please read:\n",
    "I liked the descriptive statistics and correlations between attributes of the other group members and so I wanted to focus more on the clustering part of the group work.\n",
    "I updated that notebook and it should work well now :)"
   ]
  },
  {
   "cell_type": "markdown",
   "metadata": {},
   "source": [
    "# VA Project"
   ]
  },
  {
   "cell_type": "code",
   "execution_count": 1,
   "metadata": {},
   "outputs": [],
   "source": [
    "import warnings\n",
    "warnings.filterwarnings('ignore', category=FutureWarning)\n",
    "\n",
    "#plots the figures in place instead of a new window\n",
    "%matplotlib inline\n",
    "\n",
    "import matplotlib.pyplot as plt\n",
    "from matplotlib import figure\n",
    "import matplotlib.patches as mpatches\n",
    "\n",
    "import seaborn as sns\n",
    "import altair as alt\n",
    "from sklearn import decomposition\n",
    "from sklearn.manifold import TSNE\n",
    "from sklearn.manifold import Isomap\n",
    "from sklearn import random_projection\n",
    "from sklearn.manifold import MDS\n",
    "from sklearn.preprocessing import StandardScaler\n",
    "from sklearn.decomposition import PCA\n",
    "\n",
    "import pandas as pd\n",
    "import numpy as np\n",
    "\n",
    "from ipywidgets import interact, interact_manual"
   ]
  },
  {
   "cell_type": "markdown",
   "metadata": {},
   "source": [
    "### Load Data"
   ]
  },
  {
   "cell_type": "code",
   "execution_count": 2,
   "metadata": {},
   "outputs": [],
   "source": [
    "average_age_of_dollar_billionaires_years = pd.read_csv('data//average_age_of_dollar_billionaires_years.csv')\n",
    "#average_age_of_dollar_billionaires_years.head()"
   ]
  },
  {
   "cell_type": "code",
   "execution_count": 3,
   "metadata": {},
   "outputs": [],
   "source": [
    "children_per_woman_total_fertility = pd.read_csv('data//children_per_woman_total_fertility.csv')\n",
    "#children_per_woman_total_fertility.head()"
   ]
  },
  {
   "cell_type": "code",
   "execution_count": 4,
   "metadata": {},
   "outputs": [],
   "source": [
    "co2_emissions_tonnes_per_person = pd.read_csv('data//co2_emissions_tonnes_per_person.csv')\n",
    "#co2_emissions_tonnes_per_person.head()"
   ]
  },
  {
   "cell_type": "code",
   "execution_count": 5,
   "metadata": {},
   "outputs": [],
   "source": [
    "countryContinent = pd.read_csv('data//countryContinent.csv')\n",
    "#countryContinent.head()"
   ]
  },
  {
   "cell_type": "code",
   "execution_count": 6,
   "metadata": {},
   "outputs": [],
   "source": [
    "data = pd.read_csv('data//data.csv')\n",
    "#print(data.head(120))\n",
    "#print(data.columns)"
   ]
  },
  {
   "cell_type": "code",
   "execution_count": 7,
   "metadata": {},
   "outputs": [
    {
     "data": {
      "text/plain": [
       "\"data_condensed = pd.read_csv('data//data.csv', index_col=0)\\ndata_condensed = data_condensed.drop(['average_age_of_dollar_billionaires_years',\\n                     'hourly_compensation', 'working_hours_per_week', 'total_number_of_dollar_billionaires',\\n                     'code_2', 'code_3', 'country_code', 'iso_3166_2', 'region_code', 'sub_region_code'], axis = 1)\\ndata_condensed.head(200)\""
      ]
     },
     "execution_count": 7,
     "metadata": {},
     "output_type": "execute_result"
    }
   ],
   "source": [
    "'''data_condensed = pd.read_csv('data//data.csv', index_col=0)\n",
    "data_condensed = data_condensed.drop(['average_age_of_dollar_billionaires_years',\n",
    "                     'hourly_compensation', 'working_hours_per_week', 'total_number_of_dollar_billionaires',\n",
    "                     'code_2', 'code_3', 'country_code', 'iso_3166_2', 'region_code', 'sub_region_code'], axis = 1)\n",
    "data_condensed.head(200)'''"
   ]
  },
  {
   "cell_type": "code",
   "execution_count": 8,
   "metadata": {},
   "outputs": [],
   "source": [
    "food_supply = pd.read_csv('data//food_supply.csv')\n",
    "#food_supply.head()"
   ]
  },
  {
   "cell_type": "code",
   "execution_count": 9,
   "metadata": {},
   "outputs": [],
   "source": [
    "gdp_total_yearly_growth = pd.read_csv('data//gdp_total_yearly_growth.csv')\n",
    "#gdp_total_yearly_growth.head()"
   ]
  },
  {
   "cell_type": "code",
   "execution_count": 10,
   "metadata": {},
   "outputs": [],
   "source": [
    "hourly_compensation = pd.read_csv('data//hourly_compensation.csv')\n",
    "#hourly_compensation.head()"
   ]
  },
  {
   "cell_type": "code",
   "execution_count": 11,
   "metadata": {},
   "outputs": [],
   "source": [
    "income_per_person = pd.read_csv('data//income_per_person.csv')\n",
    "#income_per_person.head()"
   ]
  },
  {
   "cell_type": "code",
   "execution_count": 12,
   "metadata": {},
   "outputs": [],
   "source": [
    "mean_years_in_school_women_percent_men_25_to_34_years = pd.read_csv('data//mean_years_in_school_women_percent_men_25_to_34_years.csv')\n",
    "#mean_years_in_school_women_percent_men_25_to_34_years.index = mean_years_in_school_women_percent_men_25_to_34_years.pop('country')\n",
    "#mean_years_in_school_women_percent_men_25_to_34_years.head()#['country']"
   ]
  },
  {
   "cell_type": "code",
   "execution_count": 13,
   "metadata": {},
   "outputs": [],
   "source": [
    "suicide_per_100000_people = pd.read_csv('data//suicide_per_100000_people.csv')\n",
    "#suicide_per_100000_people.head()"
   ]
  },
  {
   "cell_type": "code",
   "execution_count": 14,
   "metadata": {},
   "outputs": [],
   "source": [
    "total_number_of_dollar_billionaires = pd.read_csv('data//total_number_of_dollar_billionaires.csv')\n",
    "#total_number_of_dollar_billionaires.head()"
   ]
  },
  {
   "cell_type": "code",
   "execution_count": 15,
   "metadata": {},
   "outputs": [],
   "source": [
    "working_hours_per_week = pd.read_csv('data//working_hours_per_week.csv')\n",
    "#working_hours_per_week.head()"
   ]
  },
  {
   "cell_type": "code",
   "execution_count": 16,
   "metadata": {},
   "outputs": [],
   "source": [
    "working_hours_per_week.index = working_hours_per_week.pop('country')\n",
    "#working_hours_per_week.head()"
   ]
  },
  {
   "cell_type": "markdown",
   "metadata": {},
   "source": [
    "### Descriptive Satatistics"
   ]
  },
  {
   "cell_type": "code",
   "execution_count": 17,
   "metadata": {
    "scrolled": false
   },
   "outputs": [
    {
     "data": {
      "application/vnd.jupyter.widget-view+json": {
       "model_id": "906daf6ff7c54c54962afdb5533bf4de",
       "version_major": 2,
       "version_minor": 0
      },
      "text/plain": [
       "interactive(children=(IntSlider(value=1992, description='year', max=2015, min=1970), Output()), _dom_classes=(…"
      ]
     },
     "metadata": {},
     "output_type": "display_data"
    }
   ],
   "source": [
    "@interact(year = (1970,2015))\n",
    "def plot_education_gender_ratio(year):\n",
    "    mean_years_in_school_women_percent_men_25_to_34_years.boxplot(str(year))\n",
    "    mean_years_in_school_women_percent_men_25_to_34_years.hist(str(year))"
   ]
  },
  {
   "cell_type": "markdown",
   "metadata": {},
   "source": [
    "### Correlations between attributes"
   ]
  },
  {
   "cell_type": "code",
   "execution_count": 18,
   "metadata": {},
   "outputs": [
    {
     "data": {
      "application/vnd.jupyter.widget-view+json": {
       "model_id": "94b431e566584bd8b2dbca722d1f739b",
       "version_major": 2,
       "version_minor": 0
      },
      "text/plain": [
       "interactive(children=(IntSlider(value=1991, description='year', max=2013, min=1970), Checkbox(value=True, desc…"
      ]
     },
     "metadata": {},
     "output_type": "display_data"
    }
   ],
   "source": [
    "@interact(year = (1970,2013), cluster_by_continent=True, continent=['Asia','Europe','Africa', 'Oceania', 'Americas'],\n",
    "          children_per_woman_total_fertility=True, gdp_growth=True, co2_emissions_tonnes_per_person=True,\n",
    "          income_per_person=True, food_supply=True, mean_years_in_school_women_percent_men_25_to_34_years=True)\n",
    "def plot_education_gender_ratio(year,cluster_by_continent, continent,\n",
    "                                children_per_woman_total_fertility,gdp_growth,co2_emissions_tonnes_per_person,\n",
    "                                income_per_person,food_supply,\n",
    "                                mean_years_in_school_women_percent_men_25_to_34_years):\n",
    "    checked_data = list()\n",
    "    if children_per_woman_total_fertility:\n",
    "        checked_data.append('children_per_woman_total_fertility')\n",
    "    if gdp_growth:\n",
    "        checked_data.append('gdp_growth')\n",
    "    if co2_emissions_tonnes_per_person:\n",
    "        checked_data.append('co2_emissions_tonnes_per_person')\n",
    "    if income_per_person:\n",
    "        checked_data.append('income_per_person')\n",
    "    if food_supply:\n",
    "        checked_data.append('food_supply')\n",
    "    if mean_years_in_school_women_percent_men_25_to_34_years:\n",
    "        checked_data.append('mean_years_in_school_women_percent_men_25_to_34_years')\n",
    "    if cluster_by_continent:\n",
    "        new_data_condensed = data[checked_data + ['country', 'year', 'continent']]\n",
    "        data_condensed_of_year = new_data_condensed[new_data_condensed.year == year]\n",
    "        data_condensed_of_year_continent = data_condensed_of_year[data_condensed_of_year.continent == continent]\n",
    "        print(f'current year is {year}')\n",
    "        pd.plotting.scatter_matrix(data_condensed_of_year_continent[checked_data], figsize=(15,10))\n",
    "    else:\n",
    "        new_data_condensed = data[checked_data + ['country', 'year']]\n",
    "        data_condensed_of_year = new_data_condensed[new_data_condensed.year == year]\n",
    "        print(f'current year is {year}')\n",
    "        pd.plotting.scatter_matrix(data_condensed_of_year[checked_data], figsize=(15,10))"
   ]
  },
  {
   "cell_type": "markdown",
   "metadata": {},
   "source": [
    "### Cluster similar items"
   ]
  },
  {
   "cell_type": "markdown",
   "metadata": {},
   "source": [
    "Here I used 4 clustering algorithms: ['pca','mds','tsne','isomap'] \n",
    "- pca and mds give the same results\n",
    "- I don't exactly know how isomap works and what it's doing, but I've added it anyways to have 3 different solutions to that task\n",
    "- new algorithms can be added by appending its name to the dropdown menu and then adding an elif statement where basicly only one line of code needs to be changed properly"
   ]
  },
  {
   "cell_type": "code",
   "execution_count": 21,
   "metadata": {
    "scrolled": false
   },
   "outputs": [
    {
     "data": {
      "application/vnd.jupyter.widget-view+json": {
       "model_id": "80c5c7e7ba6b43bab1c1d59d0776a583",
       "version_major": 2,
       "version_minor": 0
      },
      "text/plain": [
       "interactive(children=(IntSlider(value=1991, description='year', max=2013, min=1970), Checkbox(value=True, desc…"
      ]
     },
     "metadata": {},
     "output_type": "display_data"
    }
   ],
   "source": [
    "@interact(year = (1970,2013), children_per_woman_total_fertility=True,\n",
    "          gdp_growth=True, co2_emissions_tonnes_per_person=True,\n",
    "          income_per_person=True, food_supply=True, mean_years_in_school_women_percent_men_25_to_34_years=True,\n",
    "          clustering_algorithm=['pca','mds','tsne','isomap'])\n",
    "\n",
    "def plot_education_gender_ratio(year, children_per_woman_total_fertility,\n",
    "                                gdp_growth,co2_emissions_tonnes_per_person,\n",
    "                                income_per_person,food_supply,\n",
    "                                mean_years_in_school_women_percent_men_25_to_34_years, clustering_algorithm):\n",
    "    checked_data = list()\n",
    "    if children_per_woman_total_fertility:\n",
    "        checked_data.append('children_per_woman_total_fertility')\n",
    "    if gdp_growth:\n",
    "        checked_data.append('gdp_growth')\n",
    "    if co2_emissions_tonnes_per_person:\n",
    "        checked_data.append('co2_emissions_tonnes_per_person')\n",
    "    if income_per_person:\n",
    "        checked_data.append('income_per_person')\n",
    "    if food_supply:\n",
    "        checked_data.append('food_supply')\n",
    "    if mean_years_in_school_women_percent_men_25_to_34_years:\n",
    "        checked_data.append('mean_years_in_school_women_percent_men_25_to_34_years')\n",
    "    \n",
    "    new_data_condensed = data[checked_data + ['year']]\n",
    "    ind = {'recognice_by_number': list(range(len(data['year'])))}\n",
    "    ind = pd.DataFrame(data=ind)\n",
    "    \n",
    "    new_data_condensed = new_data_condensed.join(ind) #add index at end\n",
    "    new_data_condensed = new_data_condensed[\n",
    "        new_data_condensed.replace([np.inf, -np.inf], np.nan).notnull().all(axis=1)]\n",
    "    \n",
    "    #create df which contains continents and some index to recognice when merging\n",
    "    df_continents_of_year = data[['year','continent']]\n",
    "    df_continents_of_year = df_continents_of_year.join(ind)\n",
    "    \n",
    "    #drow rows that contain wrong years\n",
    "    new_data_condensed = new_data_condensed[new_data_condensed.year == year]\n",
    "    df_continents_of_year = df_continents_of_year[df_continents_of_year.year == year]\n",
    "    \n",
    "    #create colors for plotting and use 'year' column as placeholder\n",
    "    colors = ['yellow','red','black','blue','green']\n",
    "    for index, cont in enumerate(['Asia','Europe','Africa', 'Oceania', 'Americas']):\n",
    "        df_continents_of_year.loc[df_continents_of_year.continent == cont, 'year'] = colors[index]\n",
    "    #change 'year' column as placeholder to 'color'\n",
    "    df_continents_of_year = df_continents_of_year.rename(columns={'year': 'color'})\n",
    "    \n",
    "    #create merged df\n",
    "    df_merged=new_data_condensed.merge(df_continents_of_year,\n",
    "                                        on='recognice_by_number', how='left') \n",
    "    #drop non-values\n",
    "    new_data_condensed.fillna(0)\n",
    "    \n",
    "    #scale data\n",
    "    scaler = StandardScaler()\n",
    "    scaler.fit(new_data_condensed)\n",
    "    scaled_data = scaler.transform(new_data_condensed)\n",
    "    \n",
    "    #creating the color manually, because it didn't work automatically\n",
    "    black_patch = mpatches.Patch(color='black', label='Africa')\n",
    "    green_patch = mpatches.Patch(color='green', label='Americas')\n",
    "    yellow_patch = mpatches.Patch(color='yellow', label='Asia')\n",
    "    red_patch = mpatches.Patch(color='red', label='Europe')\n",
    "    blue_patch = mpatches.Patch(color='blue', label='Oceania')\n",
    "    \n",
    "    color_patches = [black_patch, green_patch, yellow_patch, red_patch, blue_patch]\n",
    "    \n",
    "    if clustering_algorithm == 'pca':\n",
    "        pca = PCA(n_components=2)\n",
    "        pca.fit(scaled_data)\n",
    "        x_pca = pca.transform(scaled_data)\n",
    "        \n",
    "        print(f'\\n\\n{clustering_algorithm} algorithm of continents in {year}:')\n",
    "        conts = ['Asia', 'Europe']\n",
    "        conts = np.array(conts)\n",
    "        \n",
    "        #plot data in 2D\n",
    "        plt.figure(figsize=(12,7))\n",
    "        plt.scatter(x_pca[:,0],x_pca[:,1],c=df_merged['color'])\n",
    "        plt.legend(handles=color_patches)\n",
    "        plt.xlabel('First component')\n",
    "        plt.ylabel('Second component')\n",
    "        \n",
    "    elif clustering_algorithm == 'mds':\n",
    "        mds = PCA(n_components=2)\n",
    "        mds.fit(scaled_data)\n",
    "        x_mds = mds.transform(scaled_data)\n",
    "        \n",
    "        print(f'\\n\\n{clustering_algorithm} algorithm of continents in {year}:')\n",
    "        \n",
    "        #plot data in 2D\n",
    "        plt.figure(figsize=(12,7))\n",
    "        plt.scatter(x_mds[:,0],x_mds[:,1],c=df_merged['color'])\n",
    "        plt.legend(handles=color_patches)\n",
    "        plt.xlabel('First component')\n",
    "        plt.ylabel('Second component')\n",
    "    \n",
    "    elif clustering_algorithm == 'tsne':\n",
    "        tsne = TSNE(n_components=2).fit_transform(scaled_data)\n",
    "        \n",
    "        print(f'\\n\\n{clustering_algorithm} algorithm of continents in {year}:')\n",
    "        \n",
    "        #plot data in 2D\n",
    "        plt.figure(figsize=(12,7))\n",
    "        plt.scatter(tsne[:,0],tsne[:,1],c=df_merged['color'])\n",
    "        plt.legend(handles=color_patches)\n",
    "        plt.xlabel('First component')\n",
    "        plt.ylabel('Second component')\n",
    "        \n",
    "    elif clustering_algorithm == 'isomap':\n",
    "        isomap = Isomap(n_components=2).fit_transform(scaled_data)\n",
    "        \n",
    "        print(f'\\n\\n{clustering_algorithm} algorithm of continents in {year}:')\n",
    "\n",
    "        #plot data in 2D\n",
    "        plt.figure(figsize=(12,7))\n",
    "        plt.scatter(isomap[:,0],isomap[:,1],c=df_merged['color'])\n",
    "        plt.legend(handles=color_patches)\n",
    "        plt.xlabel('First component')\n",
    "        plt.ylabel('Second component')"
   ]
  },
  {
   "cell_type": "code",
   "execution_count": null,
   "metadata": {},
   "outputs": [],
   "source": []
  }
 ],
 "metadata": {
  "kernelspec": {
   "display_name": "Python 3",
   "language": "python",
   "name": "python3"
  },
  "language_info": {
   "codemirror_mode": {
    "name": "ipython",
    "version": 3
   },
   "file_extension": ".py",
   "mimetype": "text/x-python",
   "name": "python",
   "nbconvert_exporter": "python",
   "pygments_lexer": "ipython3",
   "version": "3.8.6"
  }
 },
 "nbformat": 4,
 "nbformat_minor": 4
}
