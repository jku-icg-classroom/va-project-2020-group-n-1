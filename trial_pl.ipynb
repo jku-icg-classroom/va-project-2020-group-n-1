{
 "cells": [
  {
   "cell_type": "markdown",
   "metadata": {},
   "source": [
    "# VA Project Template\n",
    "\n",
    "This template just loads and uses a few of the discussed libraries. Please follow the instruction in Moodle and feel free to remove/update any cells below."
   ]
  },
  {
   "cell_type": "code",
   "execution_count": null,
   "metadata": {},
   "outputs": [],
   "source": [
    "#disable some annoying warnings\n",
    "import warnings\n",
    "warnings.filterwarnings('ignore', category=FutureWarning)\n",
    "\n",
    "#plots the figures in place instead of a new window\n",
    "%matplotlib inline\n",
    "\n",
    "import pandas as pd\n",
    "import numpy as np\n",
    "\n",
    "import altair as alt\n",
    "\n",
    "import ipywidgets as widgets"
   ]
  },
  {
   "cell_type": "markdown",
   "metadata": {},
   "source": [
    "# Load Data"
   ]
  },
  {
   "cell_type": "code",
   "execution_count": null,
   "metadata": {},
   "outputs": [],
   "source": [
    "# helper functions for data loading \n",
    "\n",
    "def getYearsOfInterest(fromYear, toYear):\n",
    "    return [str(x) for x in range(fromYear, toYear+1)]\n",
    "\n",
    "def filterData(valueColumns, metaDataColumns, data):\n",
    "    missingColumns = list(set(valueColumns) - set(data.columns))\n",
    "    for c in missingColumns:\n",
    "        data[c] = None \n",
    "    return data[list(set(metaDataColumns) | set(valueColumns))]\n",
    "\n",
    "def unpivot(data, key_columns, data_column, value_column):\n",
    "    return pd.melt(data, id_vars=key_columns, var_name=data_column, value_name=value_column)\n",
    "\n",
    "def loadSingleDataset(path, from_year, to_year, key_columns, data_column, value_column):\n",
    "    data = pd.read_csv(path) \n",
    "    data = filterData(getYearsOfInterest(from_year, to_year), key_columns, data)\n",
    "    return unpivot(data, key_columns, data_column, value_column)\n",
    "\n",
    "def mergeDatasets(datasets, keys):\n",
    "    data = datasets[0]\n",
    "    \n",
    "    for i in range(1, len(datasets)):\n",
    "        data = data.merge(datasets[i], how='outer', left_on=keys, right_on=keys)\n",
    "        \n",
    "    return data"
   ]
  },
  {
   "cell_type": "code",
   "execution_count": null,
   "metadata": {},
   "outputs": [],
   "source": [
    "# global report params \n",
    "FROM_YEAR = 1900\n",
    "TO_YEAR   = 2020"
   ]
  },
  {
   "cell_type": "code",
   "execution_count": null,
   "metadata": {},
   "outputs": [],
   "source": [
    "gdp_growth = loadSingleDataset('data/gdp_total_yearly_growth.csv', \n",
    "                               FROM_YEAR, TO_YEAR, \n",
    "                               ['country'], \n",
    "                               'year', \n",
    "                               'gdp_growth')\n",
    "gdp_growth.head()\n"
   ]
  },
  {
   "cell_type": "code",
   "execution_count": null,
   "metadata": {},
   "outputs": [],
   "source": [
    "children_per_woman_total_fertility = loadSingleDataset('data/children_per_woman_total_fertility.csv', \n",
    "                               FROM_YEAR, TO_YEAR, \n",
    "                               ['country'], \n",
    "                               'year', \n",
    "                               'children_per_woman_total_fertility')\n",
    "children_per_woman_total_fertility.head()"
   ]
  },
  {
   "cell_type": "code",
   "execution_count": null,
   "metadata": {},
   "outputs": [],
   "source": [
    "co2_emissions_tonnes_per_person = loadSingleDataset('data/co2_emissions_tonnes_per_person.csv', \n",
    "                               FROM_YEAR, TO_YEAR, \n",
    "                               ['country'], \n",
    "                               'year', \n",
    "                               'co2_emissions_tonnes_per_person')\n",
    "co2_emissions_tonnes_per_person.head()\n"
   ]
  },
  {
   "cell_type": "code",
   "execution_count": null,
   "metadata": {},
   "outputs": [],
   "source": [
    "mean_years_in_school_women_percent_men_25_to_34_years = loadSingleDataset('data/mean_years_in_school_women_percent_men_25_to_34_years.csv', \n",
    "                               FROM_YEAR, TO_YEAR, \n",
    "                               ['country'], \n",
    "                               'year', \n",
    "                               'mean_years_in_school_women_percent_men_25_to_34_years')\n",
    "mean_years_in_school_women_percent_men_25_to_34_years.head()"
   ]
  },
  {
   "cell_type": "code",
   "execution_count": null,
   "metadata": {},
   "outputs": [],
   "source": [
    "average_age_of_dollar_billionaires_years = loadSingleDataset('data/average_age_of_dollar_billionaires_years.csv', \n",
    "                               FROM_YEAR, TO_YEAR, \n",
    "                               ['country'], \n",
    "                               'year', \n",
    "                               'average_age_of_dollar_billionaires_years')\n",
    "average_age_of_dollar_billionaires_years.head()"
   ]
  },
  {
   "cell_type": "code",
   "execution_count": null,
   "metadata": {},
   "outputs": [],
   "source": [
    "food_supply= loadSingleDataset('data/food_supply.csv', \n",
    "                               FROM_YEAR, TO_YEAR, \n",
    "                               ['country'], \n",
    "                               'year', \n",
    "                               'food_supply')\n",
    "food_supply.head()"
   ]
  },
  {
   "cell_type": "markdown",
   "metadata": {},
   "source": [
    "## TODO \n",
    "* Add more datasets and then merge them in the following cell  "
   ]
  },
  {
   "cell_type": "code",
   "execution_count": null,
   "metadata": {},
   "outputs": [],
   "source": [
    "hourly_compensation = loadSingleDataset('data/hourly_compensation.csv', \n",
    "                               FROM_YEAR, TO_YEAR, \n",
    "                               ['country'], \n",
    "                               'year', \n",
    "                               'hourly_compensation')\n",
    "hourly_compensation.head()"
   ]
  },
  {
   "cell_type": "code",
   "execution_count": null,
   "metadata": {},
   "outputs": [],
   "source": [
    "income_per_person= loadSingleDataset('data/income_per_person.csv', \n",
    "                               FROM_YEAR, TO_YEAR, \n",
    "                               ['country'], \n",
    "                               'year', \n",
    "                               'income_per_person')\n",
    "income_per_person.head()"
   ]
  },
  {
   "cell_type": "code",
   "execution_count": null,
   "metadata": {},
   "outputs": [],
   "source": [
    "suicide_per_100000_people = loadSingleDataset('data/suicide_per_100000_people.csv', \n",
    "                               FROM_YEAR, TO_YEAR, \n",
    "                               ['country'], \n",
    "                               'year', \n",
    "                               'suicide_per_100000_people')\n",
    "suicide_per_100000_people.head()"
   ]
  },
  {
   "cell_type": "code",
   "execution_count": null,
   "metadata": {},
   "outputs": [],
   "source": [
    "total_number_of_dollar_billionaires = loadSingleDataset('data/total_number_of_dollar_billionaires.csv', \n",
    "                               FROM_YEAR, TO_YEAR, \n",
    "                               ['country'], \n",
    "                               'year', \n",
    "                               'total_number_of_dollar_billionaires')\n",
    "total_number_of_dollar_billionaires.head()"
   ]
  },
  {
   "cell_type": "code",
   "execution_count": null,
   "metadata": {},
   "outputs": [],
   "source": [
    "working_hours_per_week = loadSingleDataset('data/working_hours_per_week.csv', \n",
    "                               FROM_YEAR, TO_YEAR, \n",
    "                               ['country'], \n",
    "                               'year', \n",
    "                               'working_hours_per_week')\n",
    "working_hours_per_week.head()"
   ]
  },
  {
   "cell_type": "markdown",
   "metadata": {},
   "source": [
    "## The final merged dataset\n",
    "\n",
    "* Call mergeDatasets function to form the final dataset\n",
    "* Augment data with additional attributes (e.g. continent and region data for _'country'_ and decade for _'year'_)"
   ]
  },
  {
   "cell_type": "code",
   "execution_count": null,
   "metadata": {},
   "outputs": [],
   "source": [
    "# merge the datasets in one that contains all the data\n",
    "data = mergeDatasets([\n",
    "    gdp_growth, \n",
    "    children_per_woman_total_fertility,\n",
    "    co2_emissions_tonnes_per_person,\n",
    "    mean_years_in_school_women_percent_men_25_to_34_years,\n",
    "    average_age_of_dollar_billionaires_years,\n",
    "    food_supply,\n",
    "    hourly_compensation,\n",
    "    income_per_person,\n",
    "    suicide_per_100000_people,\n",
    "    total_number_of_dollar_billionaires,\n",
    "    working_hours_per_week\n",
    "], ['country', 'year'])\n",
    "\n",
    "data.sort_values(by=['country', 'year'], inplace=True, ignore_index=True)\n",
    "\n",
    "\n",
    "countries = pd.read_csv('data/countryContinent.csv')\n",
    "\n",
    "data = data.merge(countries, how='left', left_on=['country'], right_on=['country'])\n",
    "data = data.convert_dtypes()\n",
    "\n",
    "#add 'decade' computed column \n",
    "data['decade'] = data['year'].str.slice(0, 3)  + '0'\n",
    "\n",
    "#check for missing countries (they have to be corrected in countryContinent.csv)\n",
    "missing_countries = data[data[\"region_code\"].isnull()]['country'].unique()\n",
    "\n",
    "if (len(missing_countries) == 0):\n",
    "    print(\"Country mapping is OK\")\n",
    "else:\n",
    "    print(missing_countries)\n",
    "    \n",
    "data.to_csv('data/data.csv')"
   ]
  },
  {
   "cell_type": "code",
   "execution_count": null,
   "metadata": {},
   "outputs": [],
   "source": [
    "# basic statistics of the loaded data \n",
    "print(data.count())\n",
    "data.head(50)"
   ]
  },
  {
   "cell_type": "markdown",
   "metadata": {},
   "source": [
    "## Helper variables for different set of columns in the dataset"
   ]
  },
  {
   "cell_type": "code",
   "execution_count": null,
   "metadata": {},
   "outputs": [],
   "source": [
    "# change all _ with line breaks - in this case it's easier to display column names in the plots\n",
    "mapping = {}\n",
    "for col in data:\n",
    "    mapping[col] = col.replace('_', \"\\n\")\n",
    "    \n",
    "data = data.rename(columns=mapping)\n",
    "\n",
    "key_columns = ['country', 'year']\n",
    "\n",
    "measure_columns = [\n",
    "        \"gdp\\ngrowth\",\n",
    "        \"children\\nper\\nwoman\\ntotal\\nfertility\",\n",
    "        \"co2\\nemissions\\ntonnes\\nper\\nperson\",\n",
    "        \"mean\\nyears\\nin\\nschool\\nwomen\\npercent\\nmen\\n25\\nto\\n34\\nyears\"\n",
    "        #\"average\\nage\\nof\\ndollar\\nbillionaires\\nyears\",\n",
    "        #'food_supply',\n",
    "        #'hourly_compensation',\n",
    "        #'income_per_person',\n",
    "        #'suicide_per_100000_people',\n",
    "        #'total_number_of_dollar_billionaires',\n",
    "        #'working_hours_per_week'\n",
    "    ]\n",
    "\n",
    "all_columns = key_columns + measure_columns"
   ]
  },
  {
   "cell_type": "markdown",
   "metadata": {},
   "source": [
    "# Show Data"
   ]
  },
  {
   "cell_type": "markdown",
   "metadata": {},
   "source": [
    "## Step 1 - Data Completeness\n",
    " > In the data quality framework, data completeness refers to the degree to which all data in a data set is available. A measure of data completeness is the percentage of missing data entries [[1]](https://dataladder.com/missing-data-and-data-completeness/)"
   ]
  },
  {
   "cell_type": "code",
   "execution_count": null,
   "metadata": {},
   "outputs": [],
   "source": [
    "t1 = pd.melt(data[all_columns], id_vars=['country', 'year'], var_name=['measure'], value_name='val')\n",
    "t1['Countries Count'] = t1['val'].isnull()\n",
    "\n",
    "t1 = t1.groupby(['year', 'measure'])['Countries Count'].sum().reset_index()\n",
    "\n",
    "alt.Chart(t1).mark_rect().encode(\n",
    "    x='year:O',\n",
    "    y='measure:O',\n",
    "    color='Countries Count:Q'\n",
    ").properties(\n",
    "    width=800,\n",
    "    height=300,\n",
    "    title='Data Completeness'\n",
    ")\n"
   ]
  },
  {
   "cell_type": "markdown",
   "metadata": {},
   "source": [
    "## Step 2 - Simple Plots"
   ]
  },
  {
   "cell_type": "markdown",
   "metadata": {},
   "source": [
    "### 2.1. Interactive Scatter Plot Matrix.\n",
    "\n",
    "The goal of this visualization is to explore the correlations between data columns.\n",
    "The data is filtered by country."
   ]
  },
  {
   "cell_type": "code",
   "execution_count": null,
   "metadata": {},
   "outputs": [],
   "source": [
    "@widgets.interact(country=data['country'].unique())\n",
    "def basic_plot(country):\n",
    "    filtered_df = data.loc[(data['country'] == country)]\n",
    "    #print(filtered_df[measure_columns].describe())\n",
    "    pd.plotting.scatter_matrix(filtered_df[measure_columns], alpha=0.5, figsize=(9,9))"
   ]
  },
  {
   "cell_type": "code",
   "execution_count": null,
   "metadata": {},
   "outputs": [],
   "source": [
    "import pandas as pd\n",
    "import numpy as np\n",
    "import matplotlib.pyplot as plt\n",
    "import seaborn as sns\n",
    "\n",
    "import altair as alt\n",
    "\n",
    "import ipywidgets as widgets\n",
    "\n",
    "from ipywidgets import interact, interact_manual"
   ]
  },
  {
   "cell_type": "code",
   "execution_count": null,
   "metadata": {},
   "outputs": [],
   "source": [
    "basis = pd.read_csv('data/data.csv')\n",
    "basis.head(50)"
   ]
  },
  {
   "cell_type": "markdown",
   "metadata": {},
   "source": [
    "### DESCRIPTIVE STATISTICS.\n",
    "\n",
    "Analyzing our dataset using descriptive statistics on the level of individual attributes.\n",
    "This includes simple plots of distributions and statistics."
   ]
  },
  {
   "cell_type": "code",
   "execution_count": null,
   "metadata": {},
   "outputs": [],
   "source": [
    "alt.data_transformers.disable_max_rows()\n",
    "billionaires = alt.Chart(basis).mark_bar().encode(\n",
    "    alt.X('average_age_of_dollar_billionaires_years', bin= True, scale=alt.Scale(zero=False), title='average age'),\n",
    "    alt.Y('total_number_of_dollar_billionaires', title='count')\n",
    ").properties(\n",
    "    title='Count of average age of dollar billionaires'\n",
    ")\n",
    "\n",
    "billionaires"
   ]
  },
  {
   "cell_type": "markdown",
   "metadata": {},
   "source": [
    "As expected the majority of dollar billionaires are aged 60-70, but we can also see some people in the 40-50 category and even a minority in the 20-30, 30-40 respectively field.\n",
    "Would be interesting to see which countries they are from."
   ]
  },
  {
   "cell_type": "code",
   "execution_count": null,
   "metadata": {},
   "outputs": [],
   "source": [
    "plt.figure(figsize=(10,6))\n",
    "plt.subplot(1, 2, 1)\n",
    "sns.boxenplot(data = basis.loc[basis[\"year\"]==1960], \n",
    "              x=\"continent\",y=\"children_per_woman_total_fertility\")\n",
    "#sns.swarmplot(data  = basis.loc[basis[\"year\"]==1960], \n",
    "              #x=\"continent\",y=\"children_per_woman_total_fertility\",\n",
    "              #color=\"0000\")\n",
    "plt.title(\"fertility 1960\")\n",
    "\n",
    "plt.subplot(1, 2, 2)\n",
    "sns.boxenplot(data = basis.loc[basis[\"year\"]==2020], \n",
    "              x=\"continent\",y=\"children_per_woman_total_fertility\")\n",
    "#sns.swarmplot(data  = basis.loc[basis[\"year\"]==2020], \n",
    "              #x=\"continent\",y=\"children_per_woman_total_fertility\",\n",
    "              #color=\"0000\")\n",
    "plt.title(\"fertility 2020\")\n",
    "\n",
    "plt.show()\n",
    "\n"
   ]
  },
  {
   "cell_type": "markdown",
   "metadata": {},
   "source": [
    "The graphs reveal that the amount of babies per woman has dropped in every continent during the last 60 years.\n",
    "More evident in Asia, America and Ocenania. While Europe's change in the past 60 years wasn't as significant.\n",
    "Even in Africa the count of babies per woman has dropped, but still remains higher than the other continents."
   ]
  },
  {
   "cell_type": "code",
   "execution_count": null,
   "metadata": {},
   "outputs": [],
   "source": [
    "#not sure why it's displaying the ranking, but the bars keep showing the max instead of mean.\n",
    "#and suddenly also includes countries with no value.\n",
    "alt.Chart(basis).mark_bar().encode(\n",
    "    x=alt.X('suicide_per_100000_people:Q'),\n",
    "    y=alt.Y('country', sort=alt.EncodingSortField(field=\"suicide_per_100000_people\", op=\"mean\", order='descending'))\n",
    ")\n"
   ]
  },
  {
   "cell_type": "markdown",
   "metadata": {},
   "source": [
    "Suicide rate of the top 5 countries include regions except for Hungary that formerly belong to the UdSSR."
   ]
  },
  {
   "cell_type": "code",
   "execution_count": null,
   "metadata": {},
   "outputs": [],
   "source": [
    "#do not why the chart is just showing 5 countries although I've set it to top 20. ^.^'\n",
    "alt.Chart(basis).mark_bar().encode(\n",
    "    x='suicide_per_100000_people:Q',\n",
    "    y=alt.Y('country:N',\n",
    "        sort=alt.EncodingSortField(field='suicide_per_100000_people', op='max', order='descending'))\n",
    ").transform_window(\n",
    "    window=[{'op': 'rank', 'as': 'rank'}],\n",
    "    sort=[{'field': 'suicide_per_100000_people', 'order': 'descending'}]\n",
    ").transform_filter('datum.rank <= 20')"
   ]
  },
  {
   "cell_type": "markdown",
   "metadata": {},
   "source": [
    "### CORRELATIONS.\n",
    "\n",
    "Analyzing ourdataset by looking at correlations between attributes (dimensions) and coming up with an interpretation why in which way specific attributes are correlated. "
   ]
  },
  {
   "cell_type": "code",
   "execution_count": null,
   "metadata": {},
   "outputs": [],
   "source": [
    "corr = basis[['income_per_person','working_hours_per_week','hourly_compensation','food_supply',\n",
    "              'suicide_per_100000_people','total_number_of_dollar_billionaires',\n",
    "              'average_age_of_dollar_billionaires_years',\n",
    "              'children_per_woman_total_fertility','co2_emissions_tonnes_per_person',\n",
    "              'mean_years_in_school_women_percent_men_25_to_34_years','gdp_growth']].corr()\n",
    "f, ax = plt.subplots(figsize=(5, 4))\n",
    "sns.heatmap(corr, \n",
    "            xticklabels=corr.columns.values,\n",
    "            yticklabels=corr.columns.values)\n",
    "\n"
   ]
  },
  {
   "cell_type": "markdown",
   "metadata": {},
   "source": [
    "Contrary to the hypothesis that income per person and working hours would have an impact on suicide rate the heatmap shows no or even a negative correlation. Meaning money is not the sole reason why people decide to end their lives.\n",
    "Income per person on the other hand is highly correlated to calories intake and co2 emission per person which is comprehensible given the fact that with higher income there is more money to spend for consumation. \n",
    "Interestingly calories intake is also connected to the mean years in school which can be explained by implicit relationship between calories intake and income per person. \n",
    "The average age of dollar billionaires is highly correlated to the hourly compensation which makes sense..."
   ]
  },
  {
   "cell_type": "code",
   "execution_count": null,
   "metadata": {},
   "outputs": [],
   "source": [
    "colors = sns.color_palette()\n",
    "\n",
    "@interact(year=(basis.year.min(), basis.year.max()))\n",
    "def plot(year):\n",
    "    basisyear = basis[basis.year == year]\n",
    "    for (name, group),color in zip(basisyear.groupby('continent'),colors):\n",
    "        plt.scatter(x=(group['income_per_person']),y=group['food_supply'],\n",
    "                    label=name, c=[color])#s=(group['pop']/pop_max)*400)\n",
    "    plt.title('income per person vs calories intake')\n",
    "    plt.xlabel('income per person')\n",
    "    plt.ylabel('calories intake')\n",
    "    plt.legend()"
   ]
  },
  {
   "cell_type": "code",
   "execution_count": null,
   "metadata": {},
   "outputs": [],
   "source": [
    "@widgets.interact(year = basis['year'])\n",
    "def show_plot(year):\n",
    "    basisyear = basis[basis.year == year]\n",
    "    return alt.Chart(basisyear).mark_circle().encode(\n",
    "    x=alt.X('income_per_person'),\n",
    "    y='food_supply',\n",
    "    #y=alt.Y('lifeExp', scale=alt.Scale(zero=False)),\n",
    "    color='continent',\n",
    "    #size='pop',\n",
    "    tooltip=('country','income_per_person')\n",
    ")\n"
   ]
  },
  {
   "cell_type": "markdown",
   "metadata": {},
   "source": [
    "Interestingly a lot of Asian countries that are not mentioned a lot in the media \n",
    "have high income per person in the early 60's and keep the status throughout \n",
    "the 2000's (Brunei, Kuwait, Saudi Arabia). While keeping the calories intake as \n",
    "on a stable level. African countries increase their income per person as well but\n",
    "not as much as their food supply.\n"
   ]
  },
  {
   "cell_type": "markdown",
   "metadata": {},
   "source": [
    "### CLUSTERING.\n",
    "\n",
    "Clustering similar items and show the clustering results.\n",
    "1. User can interactively select the cluster algorithms and/or its parameters.\n",
    "2. User can select one/more cluster/s from the resulting visualization.\n",
    "3. User can see the selected data with its cluster affiliation in a second interactive visualization (simple overview+detail visualization setup)\n",
    "\n"
   ]
  },
  {
   "cell_type": "code",
   "execution_count": null,
   "metadata": {},
   "outputs": [],
   "source": [
    "brush = alt.selection_interval()\n",
    "selection = alt.selection_multi(fields=['continent:N'])\n",
    "\n",
    "\n",
    "chart = alt.Chart(basis).mark_circle().encode(\n",
    "    x='working_hours_per_week:O', y= 'hourly_compensation:Q',\n",
    "    tooltip=['country','hourly_compensation'],\n",
    "    size='income_per_person',\n",
    "    color=alt.condition(brush|selection, alt.Color('continent:O', \n",
    "                                                   scale=alt.Scale(scheme='category10')),\n",
    "        alt.value('lightgray'))\n",
    ").add_selection(\n",
    "    brush, selection\n",
    ").properties(\n",
    "    width=600,\n",
    "    height=300,\n",
    ")\n",
    "chart\n"
   ]
  }
 ],
 "metadata": {
  "kernelspec": {
   "display_name": "Python 3",
   "language": "python",
   "name": "python3"
  },
  "language_info": {
   "codemirror_mode": {
    "name": "ipython",
    "version": 3
   },
   "file_extension": ".py",
   "mimetype": "text/x-python",
   "name": "python",
   "nbconvert_exporter": "python",
   "pygments_lexer": "ipython3",
   "version": "3.7.9"
  }
 },
 "nbformat": 4,
 "nbformat_minor": 4
}
